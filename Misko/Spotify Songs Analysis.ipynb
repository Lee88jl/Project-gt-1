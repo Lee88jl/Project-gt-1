{
 "cells": [
  {
   "cell_type": "code",
   "execution_count": 1,
   "id": "0aa33987",
   "metadata": {},
   "outputs": [],
   "source": [
    "# Dependencies and Setup\n",
    "import matplotlib.pyplot as plt\n",
    "import pandas as pd\n",
    "import numpy as np\n",
    "import scipy.stats as st"
   ]
  },
  {
   "cell_type": "code",
   "execution_count": 3,
   "id": "4abf00e1",
   "metadata": {},
   "outputs": [],
   "source": [
    "# Locate the CSV file to be read.\n",
    "spotify_data_path = \"Resources/data.csv\"\n",
    "\n",
    "# Read the Spotify songs data.\n",
    "spotify_data = pd.read_csv(spotify_data_path)"
   ]
  },
  {
   "cell_type": "code",
   "execution_count": null,
   "id": "f9509905",
   "metadata": {},
   "outputs": [],
   "source": []
  }
 ],
 "metadata": {
  "kernelspec": {
   "display_name": "PythonData",
   "language": "python",
   "name": "pythondata"
  },
  "language_info": {
   "codemirror_mode": {
    "name": "ipython",
    "version": 3
   },
   "file_extension": ".py",
   "mimetype": "text/x-python",
   "name": "python",
   "nbconvert_exporter": "python",
   "pygments_lexer": "ipython3",
   "version": "3.7.15"
  }
 },
 "nbformat": 4,
 "nbformat_minor": 5
}
